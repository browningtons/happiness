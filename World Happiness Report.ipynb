{
 "cells": [
  {
   "cell_type": "code",
   "execution_count": 1,
   "metadata": {},
   "outputs": [],
   "source": [
    "# Install a pip package in the current Jupyter kernel\n",
    "#import sys\n",
    "#!{sys.executable} -m pip install pandas"
   ]
  },
  {
   "cell_type": "code",
   "execution_count": 30,
   "metadata": {},
   "outputs": [],
   "source": [
    "import glob\n",
    "import pandas as pd\n",
    "import os\n",
    "\n",
    "import time\n",
    "import gspread\n",
    "from oauth2client.service_account import ServiceAccountCredentials\n",
    "import pygsheets\n",
    "import datetime"
   ]
  },
  {
   "cell_type": "code",
   "execution_count": 3,
   "metadata": {},
   "outputs": [],
   "source": [
    "path = r'/Users/paulbrown/Documents/Python/raw_data_files/'"
   ]
  },
  {
   "cell_type": "code",
   "execution_count": 4,
   "metadata": {},
   "outputs": [],
   "source": [
    "#be careful, the order in which you have your csv files saved matters\n",
    "all_csv = glob.glob(path + \"*.csv\")"
   ]
  },
  {
   "cell_type": "code",
   "execution_count": 5,
   "metadata": {},
   "outputs": [],
   "source": [
    "df_list = []\n",
    "\n",
    "for filename in all_csv:\n",
    "    df = pd.read_csv(filename, index_col=None, header=0)\n",
    "    df['Year'] = os.path.basename(filename)\n",
    "    #add the year to the file being appended (filename is the year)\n",
    "    df['Year'] = df['Year'].str[:4]\n",
    "    df_list.append(df)"
   ]
  },
  {
   "cell_type": "markdown",
   "metadata": {},
   "source": [
    "### Grab the list of dataframes and sort through the mismatching column headers"
   ]
  },
  {
   "cell_type": "code",
   "execution_count": 6,
   "metadata": {},
   "outputs": [],
   "source": [
    "#year 2015 and 2016 are similar with the exception of unnecessary columns\n",
    "\n",
    "df_1516 = pd.concat(df_list[2:4], sort=False, axis=0)\n",
    "df_1516 = df_1516.drop(['Standard Error','Lower Confidence Interval',\n",
    "                        'Upper Confidence Interval','Happiness Rank'], axis=1)"
   ]
  },
  {
   "cell_type": "code",
   "execution_count": 7,
   "metadata": {},
   "outputs": [],
   "source": [
    "#year 2018 and 2019 are similar with the exception Overall Rank. Also, change column names to match the other years\n",
    "\n",
    "df_1819 = pd.concat(df_list[0:2], sort=False, axis=0).rename(columns={'Country or region':'Country',\n",
    "                                                                      'Score':'Happiness Score',\n",
    "                                                                     'GDP per capita':'Economy (GDP per Capita)',\n",
    "                                                                     'Freedom to make life choices':'Freedom',\n",
    "                                                                     'Perceptions of corruption':'Trust (Government Corruption)',\n",
    "                                                                     'Healthy life expectancy':'Health (Life Expectancy)'})\n",
    "df_1819 = df_1819.drop(['Overall rank'], axis=1)"
   ]
  },
  {
   "cell_type": "code",
   "execution_count": 8,
   "metadata": {},
   "outputs": [],
   "source": [
    "#year 2017 is disgusting, you basically have to change all the column headers and remove useless whisker stats\n",
    "\n",
    "df_17 = df_list[4]\n",
    "df_17 = df_17.drop(['Happiness.Rank','Whisker.high','Whisker.low'], axis=1)\n",
    "\n",
    "column_map = {'Happiness.Score':'Happiness Score', \n",
    " 'Economy..GDP.per.Capita.':'Economy (GDP per Capita)', \n",
    " 'Health..Life.Expectancy.':'Health (Life Expectancy)',\n",
    " 'Trust..Government.Corruption.':'Trust (Government Corruption)',\n",
    " 'Dystopia.Residual':'Dystopia Residual'\n",
    "}\n",
    "df_17 = df_17.rename(columns=column_map)"
   ]
  },
  {
   "cell_type": "code",
   "execution_count": 9,
   "metadata": {},
   "outputs": [],
   "source": [
    "#bring 15, 16, 17 together and change the column name 'Family to Social support'\n",
    "\n",
    "df_151617 = pd.concat([df_1516, df_17], sort=False)\n",
    "df_151617 = df_151617.rename(columns={'Family':'Social support'})"
   ]
  },
  {
   "cell_type": "code",
   "execution_count": 10,
   "metadata": {},
   "outputs": [],
   "source": [
    "master_df = pd.concat([df_1819, df_151617], sort=False, ignore_index=True)\n",
    "master_df = master_df.drop(['Region','Dystopia Residual'], axis=1)"
   ]
  },
  {
   "cell_type": "code",
   "execution_count": 11,
   "metadata": {},
   "outputs": [],
   "source": [
    "#Overall Rank\n",
    "master_df['Overall Rank'] = master_df['Happiness Score'].rank(ascending=False, method='max').astype(int)\n",
    "\n",
    "#Rank within Year\n",
    "master_df['Yearly Rank'] = master_df.sort_values(by=['Year','Happiness Score'], ascending=False)['Happiness Score'].index + 1"
   ]
  },
  {
   "cell_type": "markdown",
   "metadata": {},
   "source": [
    "### Now you have a dataframe of happiness data, Hurray!\n",
    "What are you going to do with it? Maybe we could add:\n",
    "* Region Classification (https://meta.wikimedia.org/wiki/List_of_countries_by_regional_classification)\n",
    "\n",
    "* Income Inequality (https://en.wikipedia.org/wiki/List_of_countries_by_income_equality)\n",
    "\n",
    "* Household Debt (https://en.wikipedia.org/wiki/List_of_countries_by_household_debt)\n",
    "\n",
    "* Economic Freedom (https://en.wikipedia.org/wiki/List_of_countries_by_economic_freedom)\n",
    "\n",
    "* Unemployment Rate (https://en.wikipedia.org/wiki/List_of_countries_by_unemployment_rate)\n",
    "\n",
    "* Development Aid Donotions (https://en.wikipedia.org/wiki/List_of_development_aid_country_donors)\n",
    "\n",
    "* Suicide Rate (https://en.wikipedia.org/wiki/List_of_countries_by_suicide_rate)\n",
    "\n",
    "* Life Expectancy (https://en.wikipedia.org/wiki/List_of_countries_by_life_expectancy)\n",
    "\n",
    "* Intentional Homicide Rate (https://en.wikipedia.org/wiki/List_of_countries_by_intentional_homicide_rate)\n",
    "\n",
    "* Dependency Ratio (https://en.wikipedia.org/wiki/List_of_countries_by_intentional_homicide_rate)\n",
    "\n",
    "* Education Index (https://en.wikipedia.org/wiki/Education_Index)\n",
    "\n",
    "* Number of Internet Users (https://en.wikipedia.org/wiki/List_of_countries_by_number_of_Internet_users)"
   ]
  },
  {
   "cell_type": "code",
   "execution_count": 12,
   "metadata": {},
   "outputs": [
    {
     "data": {
      "text/html": [
       "<div>\n",
       "<style scoped>\n",
       "    .dataframe tbody tr th:only-of-type {\n",
       "        vertical-align: middle;\n",
       "    }\n",
       "\n",
       "    .dataframe tbody tr th {\n",
       "        vertical-align: top;\n",
       "    }\n",
       "\n",
       "    .dataframe thead th {\n",
       "        text-align: right;\n",
       "    }\n",
       "</style>\n",
       "<table border=\"1\" class=\"dataframe\">\n",
       "  <thead>\n",
       "    <tr style=\"text-align: right;\">\n",
       "      <th></th>\n",
       "      <th>Country</th>\n",
       "      <th>Happiness Score</th>\n",
       "      <th>Economy (GDP per Capita)</th>\n",
       "      <th>Social support</th>\n",
       "      <th>Health (Life Expectancy)</th>\n",
       "      <th>Freedom</th>\n",
       "      <th>Generosity</th>\n",
       "      <th>Trust (Government Corruption)</th>\n",
       "      <th>Year</th>\n",
       "      <th>Overall Rank</th>\n",
       "      <th>Yearly Rank</th>\n",
       "    </tr>\n",
       "  </thead>\n",
       "  <tbody>\n",
       "    <tr>\n",
       "      <td>0</td>\n",
       "      <td>Finland</td>\n",
       "      <td>7.769</td>\n",
       "      <td>1.340</td>\n",
       "      <td>1.587</td>\n",
       "      <td>0.986</td>\n",
       "      <td>0.596</td>\n",
       "      <td>0.153</td>\n",
       "      <td>0.393</td>\n",
       "      <td>2019</td>\n",
       "      <td>1</td>\n",
       "      <td>1</td>\n",
       "    </tr>\n",
       "    <tr>\n",
       "      <td>1</td>\n",
       "      <td>Denmark</td>\n",
       "      <td>7.600</td>\n",
       "      <td>1.383</td>\n",
       "      <td>1.573</td>\n",
       "      <td>0.996</td>\n",
       "      <td>0.592</td>\n",
       "      <td>0.252</td>\n",
       "      <td>0.410</td>\n",
       "      <td>2019</td>\n",
       "      <td>3</td>\n",
       "      <td>2</td>\n",
       "    </tr>\n",
       "    <tr>\n",
       "      <td>2</td>\n",
       "      <td>Norway</td>\n",
       "      <td>7.554</td>\n",
       "      <td>1.488</td>\n",
       "      <td>1.582</td>\n",
       "      <td>1.028</td>\n",
       "      <td>0.603</td>\n",
       "      <td>0.271</td>\n",
       "      <td>0.341</td>\n",
       "      <td>2019</td>\n",
       "      <td>8</td>\n",
       "      <td>3</td>\n",
       "    </tr>\n",
       "    <tr>\n",
       "      <td>3</td>\n",
       "      <td>Iceland</td>\n",
       "      <td>7.494</td>\n",
       "      <td>1.380</td>\n",
       "      <td>1.624</td>\n",
       "      <td>1.026</td>\n",
       "      <td>0.591</td>\n",
       "      <td>0.354</td>\n",
       "      <td>0.118</td>\n",
       "      <td>2019</td>\n",
       "      <td>19</td>\n",
       "      <td>4</td>\n",
       "    </tr>\n",
       "    <tr>\n",
       "      <td>4</td>\n",
       "      <td>Netherlands</td>\n",
       "      <td>7.488</td>\n",
       "      <td>1.396</td>\n",
       "      <td>1.522</td>\n",
       "      <td>0.999</td>\n",
       "      <td>0.557</td>\n",
       "      <td>0.322</td>\n",
       "      <td>0.298</td>\n",
       "      <td>2019</td>\n",
       "      <td>21</td>\n",
       "      <td>5</td>\n",
       "    </tr>\n",
       "  </tbody>\n",
       "</table>\n",
       "</div>"
      ],
      "text/plain": [
       "       Country  Happiness Score  Economy (GDP per Capita)  Social support  \\\n",
       "0      Finland            7.769                     1.340           1.587   \n",
       "1      Denmark            7.600                     1.383           1.573   \n",
       "2       Norway            7.554                     1.488           1.582   \n",
       "3      Iceland            7.494                     1.380           1.624   \n",
       "4  Netherlands            7.488                     1.396           1.522   \n",
       "\n",
       "   Health (Life Expectancy)  Freedom  Generosity  \\\n",
       "0                     0.986    0.596       0.153   \n",
       "1                     0.996    0.592       0.252   \n",
       "2                     1.028    0.603       0.271   \n",
       "3                     1.026    0.591       0.354   \n",
       "4                     0.999    0.557       0.322   \n",
       "\n",
       "   Trust (Government Corruption)  Year  Overall Rank  Yearly Rank  \n",
       "0                          0.393  2019             1            1  \n",
       "1                          0.410  2019             3            2  \n",
       "2                          0.341  2019             8            3  \n",
       "3                          0.118  2019            19            4  \n",
       "4                          0.298  2019            21            5  "
      ]
     },
     "execution_count": 12,
     "metadata": {},
     "output_type": "execute_result"
    }
   ],
   "source": [
    "master_df.sort_values(by=['Year','Happiness Score'], ascending=False).head(5)"
   ]
  },
  {
   "cell_type": "markdown",
   "metadata": {},
   "source": [
    "## Regional Labels"
   ]
  },
  {
   "cell_type": "code",
   "execution_count": 13,
   "metadata": {},
   "outputs": [],
   "source": [
    "regional = pd.read_html('https://meta.wikimedia.org/wiki/List_of_countries_by_regional_classification')[0]\n",
    "regional = regional.drop(['Global South'], axis=1)"
   ]
  },
  {
   "cell_type": "code",
   "execution_count": 14,
   "metadata": {},
   "outputs": [
    {
     "name": "stdout",
     "output_type": "stream",
     "text": [
      "There are 782 records for countries and there are 0 nulls\n"
     ]
    }
   ],
   "source": [
    "print('There are {} records for countries and there are {} nulls'.\n",
    "      format(len(master_df.Country),master_df.Country.isnull().sum()))"
   ]
  },
  {
   "cell_type": "code",
   "execution_count": 15,
   "metadata": {},
   "outputs": [
    {
     "name": "stdout",
     "output_type": "stream",
     "text": [
      "There are 71 values that we were unable to join\n"
     ]
    }
   ],
   "source": [
    "master_df = master_df.merge(regional, on='Country', how='left')\n",
    "print('There are {} values that we were unable to join'.format(master_df['Region'].isnull().sum()))"
   ]
  },
  {
   "cell_type": "code",
   "execution_count": 16,
   "metadata": {},
   "outputs": [],
   "source": [
    "#These are the countries that we were unable to get a region for\n",
    "miss_regions = master_df[master_df['Region'].isnull()].groupby('Country').first().reset_index()\n",
    "miss_regions = miss_regions['Country'].tolist()"
   ]
  },
  {
   "cell_type": "markdown",
   "metadata": {},
   "source": [
    "## Income Equality"
   ]
  },
  {
   "cell_type": "code",
   "execution_count": 17,
   "metadata": {},
   "outputs": [],
   "source": [
    "income_equality = pd.read_html('https://en.wikipedia.org/wiki/List_of_countries_by_income_equality')[2]"
   ]
  },
  {
   "cell_type": "code",
   "execution_count": 18,
   "metadata": {},
   "outputs": [],
   "source": [
    "income_equality.columns = income_equality.columns.droplevel()\n",
    "income_equality.columns = income_equality.columns.droplevel()\n",
    "#all I want is the country and the Gini Index (quantified representation of the Lorenz curve, duh!)\n",
    "income_equality = income_equality.iloc[:,[0,3]]\n",
    "income_equality.columns = ['Country','Gini Score']"
   ]
  },
  {
   "cell_type": "code",
   "execution_count": 19,
   "metadata": {},
   "outputs": [
    {
     "name": "stdout",
     "output_type": "stream",
     "text": [
      "There are 92 values that we were unable to join\n"
     ]
    }
   ],
   "source": [
    "master_df = master_df.merge(income_equality, on='Country', how='left')\n",
    "print('There are {} values that we were unable to join'.format(master_df['Gini Score'].isnull().sum()))"
   ]
  },
  {
   "cell_type": "markdown",
   "metadata": {},
   "source": [
    "## Suicide Rate"
   ]
  },
  {
   "cell_type": "code",
   "execution_count": 20,
   "metadata": {},
   "outputs": [],
   "source": [
    "suicide_df = pd.read_html('https://en.wikipedia.org/wiki/List_of_countries_by_suicide_rate')[3]\n",
    "\n",
    "suicide_df.columns = suicide_df.columns.droplevel()\n",
    "suicide_df.columns = ['Both Sexes Rank','Country','Continent',\n",
    "                      'Suicide Rate','Male Rank','Male Rate',\n",
    "                      'Female Rank','Female Rate','Male:Female Suicide Ratio']\n",
    "suicide_df = suicide_df.iloc[:,[0,1,3,4,5,6,7,8]]\n",
    "# or suicide.drop(['Continent'], axis=1)"
   ]
  },
  {
   "cell_type": "code",
   "execution_count": 21,
   "metadata": {},
   "outputs": [],
   "source": [
    "#wtf we have country names with (more info) next to them! That's not going to work for joins\n",
    "#only use the characters that are to the left of a character\n",
    "suicide_df['Country'] = suicide_df['Country'].str.split('(').str[0]\n",
    "suicide_df['Country'] = suicide_df['Country'].str.split('[').str[0]\n",
    "#remove any trailing whitespace from a string\n",
    "suicide_df['Country'] = suicide_df.Country.str.rstrip()"
   ]
  },
  {
   "cell_type": "code",
   "execution_count": 22,
   "metadata": {},
   "outputs": [
    {
     "name": "stdout",
     "output_type": "stream",
     "text": [
      "There are 42 values that we were unable to join\n"
     ]
    }
   ],
   "source": [
    "master_df = master_df.merge(suicide_df[['Country','Suicide Rate','Male:Female Suicide Ratio']], on='Country', how='left')\n",
    "print('There are {} values that we were unable to join'.format(master_df['Suicide Rate'].isnull().sum()))"
   ]
  },
  {
   "cell_type": "code",
   "execution_count": 23,
   "metadata": {},
   "outputs": [
    {
     "data": {
      "text/plain": [
       "Country                           0\n",
       "Happiness Score                   0\n",
       "Economy (GDP per Capita)          0\n",
       "Social support                    0\n",
       "Health (Life Expectancy)          0\n",
       "Freedom                           0\n",
       "Generosity                        0\n",
       "Trust (Government Corruption)     1\n",
       "Year                              0\n",
       "Overall Rank                      0\n",
       "Yearly Rank                       0\n",
       "Region                           71\n",
       "Gini Score                       92\n",
       "Suicide Rate                     42\n",
       "Male:Female Suicide Ratio        42\n",
       "dtype: int64"
      ]
     },
     "execution_count": 23,
     "metadata": {},
     "output_type": "execute_result"
    }
   ],
   "source": [
    "master_df.isnull().sum()"
   ]
  },
  {
   "cell_type": "code",
   "execution_count": 28,
   "metadata": {},
   "outputs": [
    {
     "data": {
      "text/html": [
       "<div>\n",
       "<style scoped>\n",
       "    .dataframe tbody tr th:only-of-type {\n",
       "        vertical-align: middle;\n",
       "    }\n",
       "\n",
       "    .dataframe tbody tr th {\n",
       "        vertical-align: top;\n",
       "    }\n",
       "\n",
       "    .dataframe thead th {\n",
       "        text-align: right;\n",
       "    }\n",
       "</style>\n",
       "<table border=\"1\" class=\"dataframe\">\n",
       "  <thead>\n",
       "    <tr style=\"text-align: right;\">\n",
       "      <th></th>\n",
       "      <th>Country</th>\n",
       "      <th>Happiness Score</th>\n",
       "      <th>Economy (GDP per Capita)</th>\n",
       "      <th>Social support</th>\n",
       "      <th>Health (Life Expectancy)</th>\n",
       "      <th>Freedom</th>\n",
       "      <th>Generosity</th>\n",
       "      <th>Trust (Government Corruption)</th>\n",
       "      <th>Year</th>\n",
       "      <th>Overall Rank</th>\n",
       "      <th>Yearly Rank</th>\n",
       "      <th>Region</th>\n",
       "      <th>Gini Score</th>\n",
       "      <th>Suicide Rate</th>\n",
       "      <th>Male:Female Suicide Ratio</th>\n",
       "    </tr>\n",
       "  </thead>\n",
       "  <tbody>\n",
       "    <tr>\n",
       "      <td>132</td>\n",
       "      <td>Ukraine</td>\n",
       "      <td>4.332</td>\n",
       "      <td>0.820000</td>\n",
       "      <td>1.390000</td>\n",
       "      <td>0.739000</td>\n",
       "      <td>0.178000</td>\n",
       "      <td>0.187000</td>\n",
       "      <td>0.010000</td>\n",
       "      <td>2019</td>\n",
       "      <td>632</td>\n",
       "      <td>133</td>\n",
       "      <td>Europe</td>\n",
       "      <td>25.5</td>\n",
       "      <td>18.5</td>\n",
       "      <td>7.34</td>\n",
       "    </tr>\n",
       "    <tr>\n",
       "      <td>758</td>\n",
       "      <td>Ukraine</td>\n",
       "      <td>4.096</td>\n",
       "      <td>0.894652</td>\n",
       "      <td>1.394538</td>\n",
       "      <td>0.575904</td>\n",
       "      <td>0.122975</td>\n",
       "      <td>0.270061</td>\n",
       "      <td>0.023029</td>\n",
       "      <td>2017</td>\n",
       "      <td>677</td>\n",
       "      <td>447</td>\n",
       "      <td>Europe</td>\n",
       "      <td>25.5</td>\n",
       "      <td>18.5</td>\n",
       "      <td>7.34</td>\n",
       "    </tr>\n",
       "    <tr>\n",
       "      <td>293</td>\n",
       "      <td>Ukraine</td>\n",
       "      <td>4.103</td>\n",
       "      <td>0.793000</td>\n",
       "      <td>1.413000</td>\n",
       "      <td>0.609000</td>\n",
       "      <td>0.163000</td>\n",
       "      <td>0.187000</td>\n",
       "      <td>0.011000</td>\n",
       "      <td>2018</td>\n",
       "      <td>676</td>\n",
       "      <td>294</td>\n",
       "      <td>Europe</td>\n",
       "      <td>25.5</td>\n",
       "      <td>18.5</td>\n",
       "      <td>7.34</td>\n",
       "    </tr>\n",
       "    <tr>\n",
       "      <td>422</td>\n",
       "      <td>Ukraine</td>\n",
       "      <td>4.681</td>\n",
       "      <td>0.799070</td>\n",
       "      <td>1.202780</td>\n",
       "      <td>0.673900</td>\n",
       "      <td>0.251230</td>\n",
       "      <td>0.152750</td>\n",
       "      <td>0.029610</td>\n",
       "      <td>2015</td>\n",
       "      <td>544</td>\n",
       "      <td>738</td>\n",
       "      <td>Europe</td>\n",
       "      <td>25.5</td>\n",
       "      <td>18.5</td>\n",
       "      <td>7.34</td>\n",
       "    </tr>\n",
       "    <tr>\n",
       "      <td>592</td>\n",
       "      <td>Ukraine</td>\n",
       "      <td>4.324</td>\n",
       "      <td>0.872870</td>\n",
       "      <td>1.014130</td>\n",
       "      <td>0.586280</td>\n",
       "      <td>0.128590</td>\n",
       "      <td>0.203630</td>\n",
       "      <td>0.018290</td>\n",
       "      <td>2016</td>\n",
       "      <td>633</td>\n",
       "      <td>596</td>\n",
       "      <td>Europe</td>\n",
       "      <td>25.5</td>\n",
       "      <td>18.5</td>\n",
       "      <td>7.34</td>\n",
       "    </tr>\n",
       "    <tr>\n",
       "      <td>529</td>\n",
       "      <td>Lithuania</td>\n",
       "      <td>5.813</td>\n",
       "      <td>1.269200</td>\n",
       "      <td>1.064110</td>\n",
       "      <td>0.646740</td>\n",
       "      <td>0.189290</td>\n",
       "      <td>0.020250</td>\n",
       "      <td>0.018200</td>\n",
       "      <td>2016</td>\n",
       "      <td>296</td>\n",
       "      <td>533</td>\n",
       "      <td>Europe</td>\n",
       "      <td>37.7</td>\n",
       "      <td>25.7</td>\n",
       "      <td>7.09</td>\n",
       "    </tr>\n",
       "    <tr>\n",
       "      <td>367</td>\n",
       "      <td>Lithuania</td>\n",
       "      <td>5.833</td>\n",
       "      <td>1.147230</td>\n",
       "      <td>1.257450</td>\n",
       "      <td>0.731280</td>\n",
       "      <td>0.213420</td>\n",
       "      <td>0.026410</td>\n",
       "      <td>0.010310</td>\n",
       "      <td>2015</td>\n",
       "      <td>287</td>\n",
       "      <td>683</td>\n",
       "      <td>Europe</td>\n",
       "      <td>37.7</td>\n",
       "      <td>25.7</td>\n",
       "      <td>7.09</td>\n",
       "    </tr>\n",
       "    <tr>\n",
       "      <td>678</td>\n",
       "      <td>Lithuania</td>\n",
       "      <td>5.902</td>\n",
       "      <td>1.314582</td>\n",
       "      <td>1.473516</td>\n",
       "      <td>0.628950</td>\n",
       "      <td>0.234232</td>\n",
       "      <td>0.010165</td>\n",
       "      <td>0.011866</td>\n",
       "      <td>2017</td>\n",
       "      <td>263</td>\n",
       "      <td>367</td>\n",
       "      <td>Europe</td>\n",
       "      <td>37.7</td>\n",
       "      <td>25.7</td>\n",
       "      <td>7.09</td>\n",
       "    </tr>\n",
       "    <tr>\n",
       "      <td>205</td>\n",
       "      <td>Lithuania</td>\n",
       "      <td>5.952</td>\n",
       "      <td>1.197000</td>\n",
       "      <td>1.527000</td>\n",
       "      <td>0.716000</td>\n",
       "      <td>0.350000</td>\n",
       "      <td>0.026000</td>\n",
       "      <td>0.006000</td>\n",
       "      <td>2018</td>\n",
       "      <td>253</td>\n",
       "      <td>206</td>\n",
       "      <td>Europe</td>\n",
       "      <td>37.7</td>\n",
       "      <td>25.7</td>\n",
       "      <td>7.09</td>\n",
       "    </tr>\n",
       "    <tr>\n",
       "      <td>41</td>\n",
       "      <td>Lithuania</td>\n",
       "      <td>6.149</td>\n",
       "      <td>1.238000</td>\n",
       "      <td>1.515000</td>\n",
       "      <td>0.818000</td>\n",
       "      <td>0.291000</td>\n",
       "      <td>0.043000</td>\n",
       "      <td>0.042000</td>\n",
       "      <td>2019</td>\n",
       "      <td>204</td>\n",
       "      <td>42</td>\n",
       "      <td>Europe</td>\n",
       "      <td>37.7</td>\n",
       "      <td>25.7</td>\n",
       "      <td>7.09</td>\n",
       "    </tr>\n",
       "  </tbody>\n",
       "</table>\n",
       "</div>"
      ],
      "text/plain": [
       "       Country  Happiness Score  Economy (GDP per Capita)  Social support  \\\n",
       "132    Ukraine            4.332                  0.820000        1.390000   \n",
       "758    Ukraine            4.096                  0.894652        1.394538   \n",
       "293    Ukraine            4.103                  0.793000        1.413000   \n",
       "422    Ukraine            4.681                  0.799070        1.202780   \n",
       "592    Ukraine            4.324                  0.872870        1.014130   \n",
       "529  Lithuania            5.813                  1.269200        1.064110   \n",
       "367  Lithuania            5.833                  1.147230        1.257450   \n",
       "678  Lithuania            5.902                  1.314582        1.473516   \n",
       "205  Lithuania            5.952                  1.197000        1.527000   \n",
       "41   Lithuania            6.149                  1.238000        1.515000   \n",
       "\n",
       "     Health (Life Expectancy)   Freedom  Generosity  \\\n",
       "132                  0.739000  0.178000    0.187000   \n",
       "758                  0.575904  0.122975    0.270061   \n",
       "293                  0.609000  0.163000    0.187000   \n",
       "422                  0.673900  0.251230    0.152750   \n",
       "592                  0.586280  0.128590    0.203630   \n",
       "529                  0.646740  0.189290    0.020250   \n",
       "367                  0.731280  0.213420    0.026410   \n",
       "678                  0.628950  0.234232    0.010165   \n",
       "205                  0.716000  0.350000    0.026000   \n",
       "41                   0.818000  0.291000    0.043000   \n",
       "\n",
       "     Trust (Government Corruption)  Year  Overall Rank  Yearly Rank  Region  \\\n",
       "132                       0.010000  2019           632          133  Europe   \n",
       "758                       0.023029  2017           677          447  Europe   \n",
       "293                       0.011000  2018           676          294  Europe   \n",
       "422                       0.029610  2015           544          738  Europe   \n",
       "592                       0.018290  2016           633          596  Europe   \n",
       "529                       0.018200  2016           296          533  Europe   \n",
       "367                       0.010310  2015           287          683  Europe   \n",
       "678                       0.011866  2017           263          367  Europe   \n",
       "205                       0.006000  2018           253          206  Europe   \n",
       "41                        0.042000  2019           204           42  Europe   \n",
       "\n",
       "     Gini Score  Suicide Rate  Male:Female Suicide Ratio  \n",
       "132        25.5          18.5                       7.34  \n",
       "758        25.5          18.5                       7.34  \n",
       "293        25.5          18.5                       7.34  \n",
       "422        25.5          18.5                       7.34  \n",
       "592        25.5          18.5                       7.34  \n",
       "529        37.7          25.7                       7.09  \n",
       "367        37.7          25.7                       7.09  \n",
       "678        37.7          25.7                       7.09  \n",
       "205        37.7          25.7                       7.09  \n",
       "41         37.7          25.7                       7.09  "
      ]
     },
     "execution_count": 28,
     "metadata": {},
     "output_type": "execute_result"
    }
   ],
   "source": [
    "master_df.sort_values(by='Male:Female Suicide Ratio', ascending=False).head(10)"
   ]
  },
  {
   "cell_type": "code",
   "execution_count": 42,
   "metadata": {},
   "outputs": [],
   "source": [
    "#create dataframe for only 2019 (1 record for each country)\n",
    "df = master_df[master_df['Year'] == '2019']"
   ]
  },
  {
   "cell_type": "code",
   "execution_count": 43,
   "metadata": {},
   "outputs": [],
   "source": [
    "pycred = pygsheets.authorize(service_file='credentials2.json')\n",
    "#opening the gsheet and sheet you want to work with\n",
    "ss = pycred.open('Happiness Data')[0]\n",
    "#overwrite what is in the sheet with your df\n",
    "ss.set_dataframe(df,(1,1))"
   ]
  },
  {
   "cell_type": "code",
   "execution_count": 44,
   "metadata": {},
   "outputs": [],
   "source": [
    "# Import the model we are using\n",
    "from sklearn.ensemble import RandomForestRegressor\n",
    "# Instantiate model with 1000 decision trees\n",
    "rf = RandomForestRegressor(n_estimators = 10, random_state = 23)\n",
    "# Train the model on training data\n",
    "#rf.fit(train_features, train_labels);"
   ]
  }
 ],
 "metadata": {
  "kernelspec": {
   "display_name": "Python 3",
   "language": "python",
   "name": "python3"
  },
  "language_info": {
   "codemirror_mode": {
    "name": "ipython",
    "version": 3
   },
   "file_extension": ".py",
   "mimetype": "text/x-python",
   "name": "python",
   "nbconvert_exporter": "python",
   "pygments_lexer": "ipython3",
   "version": "3.7.4"
  }
 },
 "nbformat": 4,
 "nbformat_minor": 2
}
