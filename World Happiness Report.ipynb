{
 "cells": [
  {
   "cell_type": "code",
   "execution_count": 1,
   "metadata": {},
   "outputs": [],
   "source": [
    "# Install a pip package in the current Jupyter kernel\n",
    "#import sys\n",
    "#!{sys.executable} -m pip install pandas"
   ]
  },
  {
   "cell_type": "code",
   "execution_count": 2,
   "metadata": {},
   "outputs": [],
   "source": [
    "import glob\n",
    "import pandas as pd\n",
    "import os"
   ]
  },
  {
   "cell_type": "code",
   "execution_count": 3,
   "metadata": {},
   "outputs": [],
   "source": [
    "path = r'C:\\Users\\pbrown\\Documents\\Python\\Raw Data\\Happiness Data'"
   ]
  },
  {
   "cell_type": "code",
   "execution_count": 4,
   "metadata": {},
   "outputs": [],
   "source": [
    "all_csv = glob.glob(path + \"\\*.csv\")"
   ]
  },
  {
   "cell_type": "code",
   "execution_count": 69,
   "metadata": {},
   "outputs": [],
   "source": [
    "df_list = []\n",
    "\n",
    "for filename in all_csv:\n",
    "    df = pd.read_csv(filename, index_col=None, header=0)\n",
    "    df['Year'] = os.path.basename(filename)\n",
    "    #add the year to the file being appended (filename is the year)\n",
    "    df['Year'] = df['Year'].str[:4]\n",
    "    df_list.append(df)"
   ]
  },
  {
   "cell_type": "markdown",
   "metadata": {},
   "source": [
    "### Grab the list of dataframes and sort through the mismatching column headers"
   ]
  },
  {
   "cell_type": "code",
   "execution_count": 70,
   "metadata": {},
   "outputs": [],
   "source": [
    "#year 2015 and 2016 are similar with the exception of unnecessary columns\n",
    "\n",
    "df_1516 = pd.concat(df_list[0:2], sort=False, axis=0)\n",
    "df_1516 = df_1516.drop(['Standard Error','Lower Confidence Interval','Upper Confidence Interval','Happiness Rank'], axis=1)"
   ]
  },
  {
   "cell_type": "code",
   "execution_count": 71,
   "metadata": {},
   "outputs": [],
   "source": [
    "#year 2018 and 2019 are similar with the exception Overall Rank. Also, change column names to match the other years\n",
    "\n",
    "df_1819 = pd.concat(df_list[3:5], sort=False, axis=0).rename(columns={'Country or region':'Country',\n",
    "                                                                      'Score':'Happiness Score',\n",
    "                                                                     'GDP per capita':'Economy (GDP per Capita)',\n",
    "                                                                     'Freedom to make life choices':'Freedom',\n",
    "                                                                     'Perceptions of corruption':'Trust (Government Corruption)',\n",
    "                                                                     'Healthy life expectancy':'Health (Life Expectancy)'})\n",
    "df_1819 = df_1819.drop(['Overall rank'], axis=1)"
   ]
  },
  {
   "cell_type": "code",
   "execution_count": 72,
   "metadata": {},
   "outputs": [],
   "source": [
    "#year 2017 is disgusting, you basically have to change all the column headers and remove useless whisker stats\n",
    "\n",
    "df_17 = df_list[2]\n",
    "df_17 = df_17.drop(['Happiness.Rank','Whisker.high','Whisker.low'], axis=1)\n",
    "\n",
    "column_map = {'Happiness.Score':'Happiness Score', \n",
    " 'Economy..GDP.per.Capita.':'Economy (GDP per Capita)', \n",
    " 'Health..Life.Expectancy.':'Health (Life Expectancy)',\n",
    " 'Trust..Government.Corruption.':'Trust (Government Corruption)',\n",
    " 'Dystopia.Residual':'Dystopia Residual'\n",
    "}\n",
    "df_17 = df_17.rename(columns=column_map)"
   ]
  },
  {
   "cell_type": "code",
   "execution_count": 73,
   "metadata": {},
   "outputs": [],
   "source": [
    "#bring 15, 16, 17 together and change the column name 'Family to Social support'\n",
    "\n",
    "df_151617 = pd.concat([df_1516, df_17], sort=False)\n",
    "df_151617 = df_151617.rename(columns={'Family':'Social support'})"
   ]
  },
  {
   "cell_type": "code",
   "execution_count": 82,
   "metadata": {},
   "outputs": [],
   "source": [
    "master_df = pd.concat([df_1819, df_151617], sort=False, ignore_index=True)\n",
    "master_df = master_df.drop(['Region','Dystopia Residual'], axis=1)"
   ]
  },
  {
   "cell_type": "code",
   "execution_count": 83,
   "metadata": {},
   "outputs": [],
   "source": [
    "#Overall Rank\n",
    "master_df['Overall Rank'] = master_df['Happiness Score'].rank(ascending=False, method='max').astype(int)\n",
    "\n",
    "#Rank within Year\n",
    "master_df['Yearly Rank'] = master_df.sort_values(by=['Year','Happiness Score'], ascending=False)['Happiness Score'].index + 1"
   ]
  },
  {
   "cell_type": "markdown",
   "metadata": {},
   "source": [
    "### Now you have a dataframe of happiness data, Hurray!\n",
    "What are you going to do with it? Maybe we could add:\n",
    "* Region Classification (https://meta.wikimedia.org/wiki/List_of_countries_by_regional_classification)\n",
    "\n",
    "* Income Inequality (https://en.wikipedia.org/wiki/List_of_countries_by_income_equality)\n",
    "\n",
    "* Household Debt (https://en.wikipedia.org/wiki/List_of_countries_by_household_debt)\n",
    "\n",
    "* Economic Freedom (https://en.wikipedia.org/wiki/List_of_countries_by_economic_freedom)\n",
    "\n",
    "* Unemployment Rate (https://en.wikipedia.org/wiki/List_of_countries_by_unemployment_rate)\n",
    "\n",
    "* Development Aid Donotions (https://en.wikipedia.org/wiki/List_of_development_aid_country_donors)\n",
    "\n",
    "* Suicide Rate (https://en.wikipedia.org/wiki/List_of_countries_by_suicide_rate)\n",
    "\n",
    "* Life Expectancy (https://en.wikipedia.org/wiki/List_of_countries_by_life_expectancy)\n",
    "\n",
    "* Intentional Homicide Rate (https://en.wikipedia.org/wiki/List_of_countries_by_intentional_homicide_rate)\n",
    "\n",
    "* Dependency Ratio (https://en.wikipedia.org/wiki/List_of_countries_by_intentional_homicide_rate)\n",
    "\n",
    "* Education Index (https://en.wikipedia.org/wiki/Education_Index)\n",
    "\n",
    "* Number of Internet Users (https://en.wikipedia.org/wiki/List_of_countries_by_number_of_Internet_users)"
   ]
  },
  {
   "cell_type": "code",
   "execution_count": 84,
   "metadata": {},
   "outputs": [
    {
     "data": {
      "text/html": [
       "<div>\n",
       "<style scoped>\n",
       "    .dataframe tbody tr th:only-of-type {\n",
       "        vertical-align: middle;\n",
       "    }\n",
       "\n",
       "    .dataframe tbody tr th {\n",
       "        vertical-align: top;\n",
       "    }\n",
       "\n",
       "    .dataframe thead th {\n",
       "        text-align: right;\n",
       "    }\n",
       "</style>\n",
       "<table border=\"1\" class=\"dataframe\">\n",
       "  <thead>\n",
       "    <tr style=\"text-align: right;\">\n",
       "      <th></th>\n",
       "      <th>Country</th>\n",
       "      <th>Happiness Score</th>\n",
       "      <th>Economy (GDP per Capita)</th>\n",
       "      <th>Social support</th>\n",
       "      <th>Health (Life Expectancy)</th>\n",
       "      <th>Freedom</th>\n",
       "      <th>Generosity</th>\n",
       "      <th>Trust (Government Corruption)</th>\n",
       "      <th>Year</th>\n",
       "      <th>Overall Rank</th>\n",
       "      <th>Yearly Rank</th>\n",
       "    </tr>\n",
       "  </thead>\n",
       "  <tbody>\n",
       "    <tr>\n",
       "      <td>156</td>\n",
       "      <td>Finland</td>\n",
       "      <td>7.769</td>\n",
       "      <td>1.340</td>\n",
       "      <td>1.587</td>\n",
       "      <td>0.986</td>\n",
       "      <td>0.596</td>\n",
       "      <td>0.153</td>\n",
       "      <td>0.393</td>\n",
       "      <td>2019</td>\n",
       "      <td>1</td>\n",
       "      <td>1</td>\n",
       "    </tr>\n",
       "    <tr>\n",
       "      <td>157</td>\n",
       "      <td>Denmark</td>\n",
       "      <td>7.600</td>\n",
       "      <td>1.383</td>\n",
       "      <td>1.573</td>\n",
       "      <td>0.996</td>\n",
       "      <td>0.592</td>\n",
       "      <td>0.252</td>\n",
       "      <td>0.410</td>\n",
       "      <td>2019</td>\n",
       "      <td>3</td>\n",
       "      <td>2</td>\n",
       "    </tr>\n",
       "    <tr>\n",
       "      <td>158</td>\n",
       "      <td>Norway</td>\n",
       "      <td>7.554</td>\n",
       "      <td>1.488</td>\n",
       "      <td>1.582</td>\n",
       "      <td>1.028</td>\n",
       "      <td>0.603</td>\n",
       "      <td>0.271</td>\n",
       "      <td>0.341</td>\n",
       "      <td>2019</td>\n",
       "      <td>8</td>\n",
       "      <td>3</td>\n",
       "    </tr>\n",
       "    <tr>\n",
       "      <td>159</td>\n",
       "      <td>Iceland</td>\n",
       "      <td>7.494</td>\n",
       "      <td>1.380</td>\n",
       "      <td>1.624</td>\n",
       "      <td>1.026</td>\n",
       "      <td>0.591</td>\n",
       "      <td>0.354</td>\n",
       "      <td>0.118</td>\n",
       "      <td>2019</td>\n",
       "      <td>19</td>\n",
       "      <td>4</td>\n",
       "    </tr>\n",
       "    <tr>\n",
       "      <td>160</td>\n",
       "      <td>Netherlands</td>\n",
       "      <td>7.488</td>\n",
       "      <td>1.396</td>\n",
       "      <td>1.522</td>\n",
       "      <td>0.999</td>\n",
       "      <td>0.557</td>\n",
       "      <td>0.322</td>\n",
       "      <td>0.298</td>\n",
       "      <td>2019</td>\n",
       "      <td>21</td>\n",
       "      <td>5</td>\n",
       "    </tr>\n",
       "    <tr>\n",
       "      <td>161</td>\n",
       "      <td>Switzerland</td>\n",
       "      <td>7.480</td>\n",
       "      <td>1.452</td>\n",
       "      <td>1.526</td>\n",
       "      <td>1.052</td>\n",
       "      <td>0.572</td>\n",
       "      <td>0.263</td>\n",
       "      <td>0.343</td>\n",
       "      <td>2019</td>\n",
       "      <td>23</td>\n",
       "      <td>6</td>\n",
       "    </tr>\n",
       "    <tr>\n",
       "      <td>162</td>\n",
       "      <td>Sweden</td>\n",
       "      <td>7.343</td>\n",
       "      <td>1.387</td>\n",
       "      <td>1.487</td>\n",
       "      <td>1.009</td>\n",
       "      <td>0.574</td>\n",
       "      <td>0.267</td>\n",
       "      <td>0.373</td>\n",
       "      <td>2019</td>\n",
       "      <td>33</td>\n",
       "      <td>7</td>\n",
       "    </tr>\n",
       "    <tr>\n",
       "      <td>163</td>\n",
       "      <td>New Zealand</td>\n",
       "      <td>7.307</td>\n",
       "      <td>1.303</td>\n",
       "      <td>1.557</td>\n",
       "      <td>1.026</td>\n",
       "      <td>0.585</td>\n",
       "      <td>0.330</td>\n",
       "      <td>0.380</td>\n",
       "      <td>2019</td>\n",
       "      <td>42</td>\n",
       "      <td>8</td>\n",
       "    </tr>\n",
       "    <tr>\n",
       "      <td>164</td>\n",
       "      <td>Canada</td>\n",
       "      <td>7.278</td>\n",
       "      <td>1.365</td>\n",
       "      <td>1.505</td>\n",
       "      <td>1.039</td>\n",
       "      <td>0.584</td>\n",
       "      <td>0.285</td>\n",
       "      <td>0.308</td>\n",
       "      <td>2019</td>\n",
       "      <td>49</td>\n",
       "      <td>9</td>\n",
       "    </tr>\n",
       "    <tr>\n",
       "      <td>165</td>\n",
       "      <td>Austria</td>\n",
       "      <td>7.246</td>\n",
       "      <td>1.376</td>\n",
       "      <td>1.475</td>\n",
       "      <td>1.016</td>\n",
       "      <td>0.532</td>\n",
       "      <td>0.244</td>\n",
       "      <td>0.226</td>\n",
       "      <td>2019</td>\n",
       "      <td>52</td>\n",
       "      <td>10</td>\n",
       "    </tr>\n",
       "  </tbody>\n",
       "</table>\n",
       "</div>"
      ],
      "text/plain": [
       "         Country  Happiness Score  Economy (GDP per Capita)  Social support  \\\n",
       "156      Finland            7.769                     1.340           1.587   \n",
       "157      Denmark            7.600                     1.383           1.573   \n",
       "158       Norway            7.554                     1.488           1.582   \n",
       "159      Iceland            7.494                     1.380           1.624   \n",
       "160  Netherlands            7.488                     1.396           1.522   \n",
       "161  Switzerland            7.480                     1.452           1.526   \n",
       "162       Sweden            7.343                     1.387           1.487   \n",
       "163  New Zealand            7.307                     1.303           1.557   \n",
       "164       Canada            7.278                     1.365           1.505   \n",
       "165      Austria            7.246                     1.376           1.475   \n",
       "\n",
       "     Health (Life Expectancy)  Freedom  Generosity  \\\n",
       "156                     0.986    0.596       0.153   \n",
       "157                     0.996    0.592       0.252   \n",
       "158                     1.028    0.603       0.271   \n",
       "159                     1.026    0.591       0.354   \n",
       "160                     0.999    0.557       0.322   \n",
       "161                     1.052    0.572       0.263   \n",
       "162                     1.009    0.574       0.267   \n",
       "163                     1.026    0.585       0.330   \n",
       "164                     1.039    0.584       0.285   \n",
       "165                     1.016    0.532       0.244   \n",
       "\n",
       "     Trust (Government Corruption)  Year  Overall Rank  Yearly Rank  \n",
       "156                          0.393  2019             1            1  \n",
       "157                          0.410  2019             3            2  \n",
       "158                          0.341  2019             8            3  \n",
       "159                          0.118  2019            19            4  \n",
       "160                          0.298  2019            21            5  \n",
       "161                          0.343  2019            23            6  \n",
       "162                          0.373  2019            33            7  \n",
       "163                          0.380  2019            42            8  \n",
       "164                          0.308  2019            49            9  \n",
       "165                          0.226  2019            52           10  "
      ]
     },
     "execution_count": 84,
     "metadata": {},
     "output_type": "execute_result"
    }
   ],
   "source": [
    "master_df.sort_values(by=['Year','Happiness Score'], ascending=False).head(10)"
   ]
  },
  {
   "cell_type": "markdown",
   "metadata": {},
   "source": [
    "## Regional Labels"
   ]
  },
  {
   "cell_type": "code",
   "execution_count": 85,
   "metadata": {},
   "outputs": [],
   "source": [
    "regional = pd.read_html('https://meta.wikimedia.org/wiki/List_of_countries_by_regional_classification')[0]\n",
    "regional = regional.drop(['Global South'], axis=1)"
   ]
  },
  {
   "cell_type": "code",
   "execution_count": 86,
   "metadata": {},
   "outputs": [
    {
     "name": "stdout",
     "output_type": "stream",
     "text": [
      "There are 782 records for countries and there are 0 nulls\n"
     ]
    }
   ],
   "source": [
    "print('There are {} records for countries and there are {} nulls'.\n",
    "      format(len(master_df.Country),master_df.Country.isnull().sum()))"
   ]
  },
  {
   "cell_type": "code",
   "execution_count": 87,
   "metadata": {},
   "outputs": [
    {
     "name": "stdout",
     "output_type": "stream",
     "text": [
      "There are 71 values that we were unable to join\n"
     ]
    }
   ],
   "source": [
    "master_df = master_df.merge(regional, on='Country', how='left')\n",
    "print('There are {} values that we were unable to join'.format(master_df['Region'].isnull().sum()))"
   ]
  },
  {
   "cell_type": "code",
   "execution_count": 101,
   "metadata": {},
   "outputs": [],
   "source": [
    "#These are the countries that we were unable to get a region for\n",
    "miss_regions = master_df[master_df['Region'].isnull()].groupby('Country').first().reset_index()\n",
    "miss_regions = miss_regions['Country'].tolist()"
   ]
  },
  {
   "cell_type": "markdown",
   "metadata": {},
   "source": [
    "## Income Equality"
   ]
  },
  {
   "cell_type": "code",
   "execution_count": 138,
   "metadata": {},
   "outputs": [],
   "source": [
    "income_equality = pd.read_html('https://en.wikipedia.org/wiki/List_of_countries_by_income_equality')[2]"
   ]
  },
  {
   "cell_type": "code",
   "execution_count": 139,
   "metadata": {},
   "outputs": [],
   "source": [
    "income_equality.columns = income_equality.columns.droplevel()\n",
    "income_equality.columns = income_equality.columns.droplevel()\n",
    "#all I want is the country and the Gini Index (quantified representation of the Lorenz curve, duh!)\n",
    "income_equality = income_equality.iloc[:,[0,3]]\n",
    "income_equality.columns = ['Country','Gini Score']"
   ]
  },
  {
   "cell_type": "code",
   "execution_count": 140,
   "metadata": {},
   "outputs": [
    {
     "name": "stdout",
     "output_type": "stream",
     "text": [
      "There are 92 values that we were unable to join\n"
     ]
    }
   ],
   "source": [
    "master_df = master_df.merge(income_equality, on='Country', how='left')\n",
    "print('There are {} values that we were unable to join'.format(master_df['Gini Score'].isnull().sum()))"
   ]
  },
  {
   "cell_type": "markdown",
   "metadata": {},
   "source": [
    "## Suicide Rate"
   ]
  },
  {
   "cell_type": "code",
   "execution_count": null,
   "metadata": {},
   "outputs": [],
   "source": [
    "suicide_df = pd.read_html('https://en.wikipedia.org/wiki/List_of_countries_by_income_equality')[2]"
   ]
  }
 ],
 "metadata": {
  "kernelspec": {
   "display_name": "Python 3",
   "language": "python",
   "name": "python3"
  },
  "language_info": {
   "codemirror_mode": {
    "name": "ipython",
    "version": 3
   },
   "file_extension": ".py",
   "mimetype": "text/x-python",
   "name": "python",
   "nbconvert_exporter": "python",
   "pygments_lexer": "ipython3",
   "version": "3.7.4"
  }
 },
 "nbformat": 4,
 "nbformat_minor": 2
}
